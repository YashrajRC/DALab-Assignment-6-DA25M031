{
 "cells": [
  {
   "cell_type": "markdown",
   "id": "aec523c1-54b6-466a-8666-59e53003755c",
   "metadata": {
    "jp-MarkdownHeadingCollapsed": true
   },
   "source": [
    "# DA5401 A6: Imputation via Regression for Missing Data"
   ]
  },
  {
   "cell_type": "markdown",
   "id": "3ed3ebfe-2932-44d7-8d83-7d95f1385f2e",
   "metadata": {
    "jp-MarkdownHeadingCollapsed": true
   },
   "source": [
    "## Objective\n",
    "\n",
    "*The aim of this assignment is to study different techniques for handling missing data and to understand how each method affects the performance of a classification model.*  \n",
    "*Using the UCI Credit Card dataset, we introduce artificial missing values and apply three imputation strategies — median imputation, linear regression imputation, and KNN (non-linear) regression imputation — along with listwise deletion for comparison.  \n",
    "The goal is to evaluate which method best preserves data quality and improves the accuracy and reliability of a logistic regression classifier.*\n"
   ]
  },
  {
   "cell_type": "markdown",
   "id": "9bd17186-fdf0-4f66-ad56-3ddcae116c25",
   "metadata": {
    "jp-MarkdownHeadingCollapsed": true
   },
   "source": [
    "## Part A: Data Preprocessing and Imputation"
   ]
  },
  {
   "cell_type": "markdown",
   "id": "acf3e4e2-56a2-4ef9-acd8-5a0fd657c581",
   "metadata": {
    "jp-MarkdownHeadingCollapsed": true
   },
   "source": [
    "### Imports and settings"
   ]
  },
  {
   "cell_type": "code",
   "execution_count": 1,
   "id": "d44ad3dc-1ffa-4f8d-88f3-66dee3c8a717",
   "metadata": {},
   "outputs": [],
   "source": [
    "import numpy as np\n",
    "import pandas as pd\n",
    "from sklearn.linear_model import LinearRegression, LogisticRegression\n",
    "from sklearn.neighbors import KNeighborsRegressor\n",
    "from sklearn.preprocessing import StandardScaler\n",
    "from sklearn.model_selection import train_test_split\n",
    "from sklearn.metrics import classification_report, accuracy_score, precision_score, recall_score, f1_score\n",
    "import matplotlib.pyplot as plt\n",
    "import os, json, random\n",
    "os.environ[\"LOKY_MAX_CPU_COUNT\"] = \"4\"\n",
    "\n",
    "RSEED = 42\n",
    "np.random.seed(RSEED)\n",
    "random.seed(RSEED)"
   ]
  },
  {
   "cell_type": "markdown",
   "id": "0447b6db-5b46-4fa2-8501-4a6b2ed6970a",
   "metadata": {
    "jp-MarkdownHeadingCollapsed": true
   },
   "source": [
    "### Load dataset and show basics"
   ]
  },
  {
   "cell_type": "code",
   "execution_count": 2,
   "id": "5cadb4e2-2528-41e5-83ca-c48cdb15a389",
   "metadata": {},
   "outputs": [
    {
     "name": "stdout",
     "output_type": "stream",
     "text": [
      "Initial dataset shape: (30000, 25)\n",
      "Columns: ['ID', 'LIMIT_BAL', 'SEX', 'EDUCATION', 'MARRIAGE', 'AGE', 'PAY_0', 'PAY_2', 'PAY_3', 'PAY_4', 'PAY_5', 'PAY_6', 'BILL_AMT1', 'BILL_AMT2', 'BILL_AMT3', 'BILL_AMT4', 'BILL_AMT5', 'BILL_AMT6', 'PAY_AMT1', 'PAY_AMT2', 'PAY_AMT3', 'PAY_AMT4', 'PAY_AMT5', 'PAY_AMT6', 'default.payment.next.month']\n"
     ]
    },
    {
     "data": {
      "text/html": [
       "<div>\n",
       "<style scoped>\n",
       "    .dataframe tbody tr th:only-of-type {\n",
       "        vertical-align: middle;\n",
       "    }\n",
       "\n",
       "    .dataframe tbody tr th {\n",
       "        vertical-align: top;\n",
       "    }\n",
       "\n",
       "    .dataframe thead th {\n",
       "        text-align: right;\n",
       "    }\n",
       "</style>\n",
       "<table border=\"1\" class=\"dataframe\">\n",
       "  <thead>\n",
       "    <tr style=\"text-align: right;\">\n",
       "      <th></th>\n",
       "      <th>ID</th>\n",
       "      <th>LIMIT_BAL</th>\n",
       "      <th>SEX</th>\n",
       "      <th>EDUCATION</th>\n",
       "      <th>MARRIAGE</th>\n",
       "      <th>AGE</th>\n",
       "      <th>PAY_0</th>\n",
       "      <th>PAY_2</th>\n",
       "      <th>PAY_3</th>\n",
       "      <th>PAY_4</th>\n",
       "      <th>...</th>\n",
       "      <th>BILL_AMT4</th>\n",
       "      <th>BILL_AMT5</th>\n",
       "      <th>BILL_AMT6</th>\n",
       "      <th>PAY_AMT1</th>\n",
       "      <th>PAY_AMT2</th>\n",
       "      <th>PAY_AMT3</th>\n",
       "      <th>PAY_AMT4</th>\n",
       "      <th>PAY_AMT5</th>\n",
       "      <th>PAY_AMT6</th>\n",
       "      <th>default.payment.next.month</th>\n",
       "    </tr>\n",
       "  </thead>\n",
       "  <tbody>\n",
       "    <tr>\n",
       "      <th>0</th>\n",
       "      <td>1</td>\n",
       "      <td>20000.0</td>\n",
       "      <td>2</td>\n",
       "      <td>2</td>\n",
       "      <td>1</td>\n",
       "      <td>24</td>\n",
       "      <td>2</td>\n",
       "      <td>2</td>\n",
       "      <td>-1</td>\n",
       "      <td>-1</td>\n",
       "      <td>...</td>\n",
       "      <td>0.0</td>\n",
       "      <td>0.0</td>\n",
       "      <td>0.0</td>\n",
       "      <td>0.0</td>\n",
       "      <td>689.0</td>\n",
       "      <td>0.0</td>\n",
       "      <td>0.0</td>\n",
       "      <td>0.0</td>\n",
       "      <td>0.0</td>\n",
       "      <td>1</td>\n",
       "    </tr>\n",
       "    <tr>\n",
       "      <th>1</th>\n",
       "      <td>2</td>\n",
       "      <td>120000.0</td>\n",
       "      <td>2</td>\n",
       "      <td>2</td>\n",
       "      <td>2</td>\n",
       "      <td>26</td>\n",
       "      <td>-1</td>\n",
       "      <td>2</td>\n",
       "      <td>0</td>\n",
       "      <td>0</td>\n",
       "      <td>...</td>\n",
       "      <td>3272.0</td>\n",
       "      <td>3455.0</td>\n",
       "      <td>3261.0</td>\n",
       "      <td>0.0</td>\n",
       "      <td>1000.0</td>\n",
       "      <td>1000.0</td>\n",
       "      <td>1000.0</td>\n",
       "      <td>0.0</td>\n",
       "      <td>2000.0</td>\n",
       "      <td>1</td>\n",
       "    </tr>\n",
       "    <tr>\n",
       "      <th>2</th>\n",
       "      <td>3</td>\n",
       "      <td>90000.0</td>\n",
       "      <td>2</td>\n",
       "      <td>2</td>\n",
       "      <td>2</td>\n",
       "      <td>34</td>\n",
       "      <td>0</td>\n",
       "      <td>0</td>\n",
       "      <td>0</td>\n",
       "      <td>0</td>\n",
       "      <td>...</td>\n",
       "      <td>14331.0</td>\n",
       "      <td>14948.0</td>\n",
       "      <td>15549.0</td>\n",
       "      <td>1518.0</td>\n",
       "      <td>1500.0</td>\n",
       "      <td>1000.0</td>\n",
       "      <td>1000.0</td>\n",
       "      <td>1000.0</td>\n",
       "      <td>5000.0</td>\n",
       "      <td>0</td>\n",
       "    </tr>\n",
       "    <tr>\n",
       "      <th>3</th>\n",
       "      <td>4</td>\n",
       "      <td>50000.0</td>\n",
       "      <td>2</td>\n",
       "      <td>2</td>\n",
       "      <td>1</td>\n",
       "      <td>37</td>\n",
       "      <td>0</td>\n",
       "      <td>0</td>\n",
       "      <td>0</td>\n",
       "      <td>0</td>\n",
       "      <td>...</td>\n",
       "      <td>28314.0</td>\n",
       "      <td>28959.0</td>\n",
       "      <td>29547.0</td>\n",
       "      <td>2000.0</td>\n",
       "      <td>2019.0</td>\n",
       "      <td>1200.0</td>\n",
       "      <td>1100.0</td>\n",
       "      <td>1069.0</td>\n",
       "      <td>1000.0</td>\n",
       "      <td>0</td>\n",
       "    </tr>\n",
       "    <tr>\n",
       "      <th>4</th>\n",
       "      <td>5</td>\n",
       "      <td>50000.0</td>\n",
       "      <td>1</td>\n",
       "      <td>2</td>\n",
       "      <td>1</td>\n",
       "      <td>57</td>\n",
       "      <td>-1</td>\n",
       "      <td>0</td>\n",
       "      <td>-1</td>\n",
       "      <td>0</td>\n",
       "      <td>...</td>\n",
       "      <td>20940.0</td>\n",
       "      <td>19146.0</td>\n",
       "      <td>19131.0</td>\n",
       "      <td>2000.0</td>\n",
       "      <td>36681.0</td>\n",
       "      <td>10000.0</td>\n",
       "      <td>9000.0</td>\n",
       "      <td>689.0</td>\n",
       "      <td>679.0</td>\n",
       "      <td>0</td>\n",
       "    </tr>\n",
       "  </tbody>\n",
       "</table>\n",
       "<p>5 rows × 25 columns</p>\n",
       "</div>"
      ],
      "text/plain": [
       "   ID  LIMIT_BAL  SEX  EDUCATION  MARRIAGE  AGE  PAY_0  PAY_2  PAY_3  PAY_4  \\\n",
       "0   1    20000.0    2          2         1   24      2      2     -1     -1   \n",
       "1   2   120000.0    2          2         2   26     -1      2      0      0   \n",
       "2   3    90000.0    2          2         2   34      0      0      0      0   \n",
       "3   4    50000.0    2          2         1   37      0      0      0      0   \n",
       "4   5    50000.0    1          2         1   57     -1      0     -1      0   \n",
       "\n",
       "   ...  BILL_AMT4  BILL_AMT5  BILL_AMT6  PAY_AMT1  PAY_AMT2  PAY_AMT3  \\\n",
       "0  ...        0.0        0.0        0.0       0.0     689.0       0.0   \n",
       "1  ...     3272.0     3455.0     3261.0       0.0    1000.0    1000.0   \n",
       "2  ...    14331.0    14948.0    15549.0    1518.0    1500.0    1000.0   \n",
       "3  ...    28314.0    28959.0    29547.0    2000.0    2019.0    1200.0   \n",
       "4  ...    20940.0    19146.0    19131.0    2000.0   36681.0   10000.0   \n",
       "\n",
       "   PAY_AMT4  PAY_AMT5  PAY_AMT6  default.payment.next.month  \n",
       "0       0.0       0.0       0.0                           1  \n",
       "1    1000.0       0.0    2000.0                           1  \n",
       "2    1000.0    1000.0    5000.0                           0  \n",
       "3    1100.0    1069.0    1000.0                           0  \n",
       "4    9000.0     689.0     679.0                           0  \n",
       "\n",
       "[5 rows x 25 columns]"
      ]
     },
     "execution_count": 2,
     "metadata": {},
     "output_type": "execute_result"
    }
   ],
   "source": [
    "df_orig = pd.read_csv('UCI_Credit_Card.csv')\n",
    "print(\"Initial dataset shape:\", df_orig.shape)\n",
    "print(\"Columns:\", df_orig.columns.tolist())\n",
    "df_orig.head()"
   ]
  },
  {
   "cell_type": "code",
   "execution_count": 3,
   "id": "4db1c8d5-768b-495e-88d2-d284b0ebc7ba",
   "metadata": {},
   "outputs": [
    {
     "name": "stdout",
     "output_type": "stream",
     "text": [
      "<class 'pandas.core.frame.DataFrame'>\n",
      "RangeIndex: 30000 entries, 0 to 29999\n",
      "Data columns (total 25 columns):\n",
      " #   Column                      Non-Null Count  Dtype  \n",
      "---  ------                      --------------  -----  \n",
      " 0   ID                          30000 non-null  int64  \n",
      " 1   LIMIT_BAL                   30000 non-null  float64\n",
      " 2   SEX                         30000 non-null  int64  \n",
      " 3   EDUCATION                   30000 non-null  int64  \n",
      " 4   MARRIAGE                    30000 non-null  int64  \n",
      " 5   AGE                         30000 non-null  int64  \n",
      " 6   PAY_0                       30000 non-null  int64  \n",
      " 7   PAY_2                       30000 non-null  int64  \n",
      " 8   PAY_3                       30000 non-null  int64  \n",
      " 9   PAY_4                       30000 non-null  int64  \n",
      " 10  PAY_5                       30000 non-null  int64  \n",
      " 11  PAY_6                       30000 non-null  int64  \n",
      " 12  BILL_AMT1                   30000 non-null  float64\n",
      " 13  BILL_AMT2                   30000 non-null  float64\n",
      " 14  BILL_AMT3                   30000 non-null  float64\n",
      " 15  BILL_AMT4                   30000 non-null  float64\n",
      " 16  BILL_AMT5                   30000 non-null  float64\n",
      " 17  BILL_AMT6                   30000 non-null  float64\n",
      " 18  PAY_AMT1                    30000 non-null  float64\n",
      " 19  PAY_AMT2                    30000 non-null  float64\n",
      " 20  PAY_AMT3                    30000 non-null  float64\n",
      " 21  PAY_AMT4                    30000 non-null  float64\n",
      " 22  PAY_AMT5                    30000 non-null  float64\n",
      " 23  PAY_AMT6                    30000 non-null  float64\n",
      " 24  default.payment.next.month  30000 non-null  int64  \n",
      "dtypes: float64(13), int64(12)\n",
      "memory usage: 5.7 MB\n"
     ]
    }
   ],
   "source": [
    "df_orig.info()"
   ]
  },
  {
   "cell_type": "markdown",
   "id": "9289f08c-9df9-4fa3-add3-e70242c97d7b",
   "metadata": {
    "jp-MarkdownHeadingCollapsed": true
   },
   "source": [
    "### Introducing Missing At Random (MAR) Values:\n",
    "### *(10%) in AGE, BILL_AMT1 and BILL_AMT2*"
   ]
  },
  {
   "cell_type": "code",
   "execution_count": 4,
   "id": "7752f2ff-f4ef-435d-a527-f77cccacf034",
   "metadata": {},
   "outputs": [
    {
     "name": "stdout",
     "output_type": "stream",
     "text": [
      "Missingness introduced (counts):\n",
      "AGE          3000\n",
      "BILL_AMT1    3000\n",
      "BILL_AMT2    3000\n",
      "dtype: int64\n"
     ]
    }
   ],
   "source": [
    "# Create a copy of the original dataframe to work with\n",
    "df_missing = df_orig.copy()\n",
    "\n",
    "# Define which columns will have missing values introduced\n",
    "cols_to_miss = ['AGE', 'BILL_AMT1', 'BILL_AMT2']\n",
    "\n",
    "# Set the fraction of values to be missing (10%)\n",
    "miss_frac = 0.10\n",
    "\n",
    "# Get the total number of rows in the dataframe\n",
    "n = len(df_missing)\n",
    "\n",
    "# Loop through each column that needs missing values\n",
    "for col in cols_to_miss:\n",
    "    # Randomly select indices where values will be set to missing\n",
    "    missing_idx = np.random.choice(df_missing.index, size=int(np.floor(miss_frac * n)), replace=False)\n",
    "    # Set the selected indices in the current column to NaN\n",
    "    df_missing.loc[missing_idx, col] = np.nan\n",
    "\n",
    "# Print summary of missing values\n",
    "print(\"Missingness introduced (counts):\")\n",
    "print(df_missing[cols_to_miss].isna().sum())"
   ]
  },
  {
   "cell_type": "markdown",
   "id": "dfde225f-2478-4635-a296-554ff1e857f8",
   "metadata": {
    "jp-MarkdownHeadingCollapsed": true
   },
   "source": [
    "### Dataset A — Median Imputation (Baseline)\n",
    "\n",
    "In this first approach, we handle missing values by replacing them with the **median** of each column.  \n",
    "This method is simple, fast, and commonly used as a baseline because the median is less affected by outliers than the mean.  \n",
    "Although it does not consider relationships between features, it provides a good starting point to compare more advanced imputation techniques later.\n"
   ]
  },
  {
   "cell_type": "markdown",
   "id": "ee130328-6b54-41cf-b9d3-bf8ef4f1efee",
   "metadata": {},
   "source": [
    "#### Why the Median is Often Preferred Over the Mean for Imputation\n",
    "\n",
    "The **median** is often preferred over the **mean** for imputing missing values because it is **less sensitive to outliers** and **skewed data**.  \n",
    "In many real-world datasets, numerical features (like income, bill amounts, or credit limits) are not perfectly symmetrical — a few extreme values can pull the mean up or down, giving a misleading central value.  \n",
    "\n",
    "The median, on the other hand, represents the **middle point** of the data and remains stable even when extreme values are present.  \n",
    "This makes it a **more robust and reliable measure of central tendency**, especially for financial or demographic data where large variations are common."
   ]
  },
  {
   "cell_type": "code",
   "execution_count": 5,
   "id": "71623f15-8bbb-484b-a8fc-33e737cce2c5",
   "metadata": {},
   "outputs": [
    {
     "name": "stdout",
     "output_type": "stream",
     "text": [
      "Dataset A saved. Missing counts:\n",
      "ID                            0\n",
      "LIMIT_BAL                     0\n",
      "SEX                           0\n",
      "EDUCATION                     0\n",
      "MARRIAGE                      0\n",
      "AGE                           0\n",
      "PAY_0                         0\n",
      "PAY_2                         0\n",
      "PAY_3                         0\n",
      "PAY_4                         0\n",
      "PAY_5                         0\n",
      "PAY_6                         0\n",
      "BILL_AMT1                     0\n",
      "BILL_AMT2                     0\n",
      "BILL_AMT3                     0\n",
      "BILL_AMT4                     0\n",
      "BILL_AMT5                     0\n",
      "BILL_AMT6                     0\n",
      "PAY_AMT1                      0\n",
      "PAY_AMT2                      0\n",
      "PAY_AMT3                      0\n",
      "PAY_AMT4                      0\n",
      "PAY_AMT5                      0\n",
      "PAY_AMT6                      0\n",
      "default.payment.next.month    0\n",
      "dtype: int64\n"
     ]
    }
   ],
   "source": [
    "df_A = df_missing.copy()\n",
    "for col in df_A.columns:\n",
    "    if df_A[col].isnull().any():\n",
    "        df_A[col] = df_A[col].fillna(df_A[col].median())\n",
    "print(\"Dataset A saved. Missing counts:\")\n",
    "print(df_A.isna().sum())"
   ]
  },
  {
   "cell_type": "markdown",
   "id": "5ad56e79-a66b-4b9d-8f9b-be1ec0ffb089",
   "metadata": {
    "jp-MarkdownHeadingCollapsed": true
   },
   "source": [
    "### Preparing Predictors for Regression-Based Imputation\n",
    "\n",
    "Before creating Datasets **B** and **C**, we first prepare the input features (predictors) that will be used to estimate the missing values in the selected column (`AGE`).  \n",
    "We exclude columns that were intentionally made missing (`AGE`, `BILL_AMT1`, and `BILL_AMT2`), as well as identifier and target columns, to ensure our imputation models are trained only on complete and relevant features.  \n",
    "These predictors will then be used for both **Linear Regression** (Dataset B) and **KNN Regression** (Dataset C) imputations.\n"
   ]
  },
  {
   "cell_type": "code",
   "execution_count": 6,
   "id": "ca318be6-6bad-4b8a-bb4a-a241d933004a",
   "metadata": {},
   "outputs": [
    {
     "name": "stdout",
     "output_type": "stream",
     "text": [
      "Predictors used for imputing AGE: ['LIMIT_BAL', 'SEX', 'EDUCATION', 'MARRIAGE', 'PAY_0', 'PAY_2', 'PAY_3', 'PAY_4', 'PAY_5', 'PAY_6', 'BILL_AMT3', 'BILL_AMT4', 'BILL_AMT5', 'BILL_AMT6', 'PAY_AMT1', 'PAY_AMT2', 'PAY_AMT3', 'PAY_AMT4', 'PAY_AMT5', 'PAY_AMT6'] ... (total: 20 )\n"
     ]
    }
   ],
   "source": [
    "# Prepare predictors for regression imputation (exclude artificially-missing cols)\n",
    "target_col = 'AGE'\n",
    "id_cols = ['ID']\n",
    "target_name = 'default.payment.next.month'\n",
    "\n",
    "predictor_cols = [c for c in df_missing.select_dtypes(include=[np.number]).columns \n",
    "                  if c not in id_cols + [target_col, target_name] + cols_to_miss]\n",
    "\n",
    "print(\"Predictors used for imputing AGE:\", predictor_cols, \"... (total:\", len(predictor_cols), \")\")\n"
   ]
  },
  {
   "cell_type": "code",
   "execution_count": 7,
   "id": "cf5e1546-dd6a-483c-9604-1c0d05259ade",
   "metadata": {},
   "outputs": [],
   "source": [
    "train_mask = (~df_missing[target_col].isna())\n",
    "X_train = df_missing.loc[train_mask, predictor_cols].copy()\n",
    "y_train = df_missing.loc[train_mask, target_col].copy()\n",
    "\n",
    "# confirm no NaNs in predictors\n",
    "assert X_train.isna().sum().sum() == 0, \"Unexpected missingness in predictors used for regression.\"\n",
    "\n",
    "scaler = StandardScaler()\n",
    "X_train_scaled = scaler.fit_transform(X_train)"
   ]
  },
  {
   "cell_type": "markdown",
   "id": "e3c89824-1c4c-47d1-91bb-9a8bfb6cdbe0",
   "metadata": {
    "jp-MarkdownHeadingCollapsed": true
   },
   "source": [
    "### Dataset B — Linear Regression Imputation\n",
    "\n",
    "In this approach, we use a **Linear Regression model** to predict the missing values in the `AGE` column using the prepared predictor variables.  \n",
    "This method assumes that `AGE` has a linear relationship with other numerical features."
   ]
  },
  {
   "cell_type": "markdown",
   "id": "d3acadb4-4061-4bd4-b578-7e546966940c",
   "metadata": {},
   "source": [
    "#### Underlying Assumption of Linear Regression Imputation (Missing At Random)\n",
    "\n",
    "The **Linear Regression imputation** method assumes that the data is **Missing At Random (MAR)**.  \n",
    "This means that the likelihood of a value being missing depends on **other observed variables** in the dataset, but **not on the value that is missing itself**.  \n",
    "\n",
    "For example, the probability of `AGE` being missing might depend on a person’s education level or credit limit, but not directly on their actual age.  \n",
    "Because of this, we can use the available features to build a regression model that reasonably predicts the missing `AGE` values.  \n",
    "\n",
    "In short, the MAR assumption allows us to estimate missing values using patterns found in the observed data without introducing major bias."
   ]
  },
  {
   "cell_type": "code",
   "execution_count": 8,
   "id": "065f8796-cdf9-4eef-a802-7fda6b73c822",
   "metadata": {},
   "outputs": [
    {
     "name": "stdout",
     "output_type": "stream",
     "text": [
      "(24297, 25)\n",
      "Dataset B saved. Missing counts (should be 0):\n",
      "ID                            0\n",
      "LIMIT_BAL                     0\n",
      "SEX                           0\n",
      "EDUCATION                     0\n",
      "MARRIAGE                      0\n",
      "AGE                           0\n",
      "PAY_0                         0\n",
      "PAY_2                         0\n",
      "PAY_3                         0\n",
      "PAY_4                         0\n",
      "PAY_5                         0\n",
      "PAY_6                         0\n",
      "BILL_AMT1                     0\n",
      "BILL_AMT2                     0\n",
      "BILL_AMT3                     0\n",
      "BILL_AMT4                     0\n",
      "BILL_AMT5                     0\n",
      "BILL_AMT6                     0\n",
      "PAY_AMT1                      0\n",
      "PAY_AMT2                      0\n",
      "PAY_AMT3                      0\n",
      "PAY_AMT4                      0\n",
      "PAY_AMT5                      0\n",
      "PAY_AMT6                      0\n",
      "default.payment.next.month    0\n",
      "dtype: int64\n"
     ]
    }
   ],
   "source": [
    "linreg = LinearRegression()\n",
    "linreg.fit(X_train_scaled, y_train)\n",
    "\n",
    "# Predict AGE for rows where AGE is missing\n",
    "missing_mask = df_missing[target_col].isna()\n",
    "X_missing = df_missing.loc[missing_mask, predictor_cols].copy()\n",
    "if X_missing.isna().sum().sum() > 0:\n",
    "    X_missing = X_missing.fillna(X_train.median())\n",
    "\n",
    "X_missing_scaled = scaler.transform(X_missing)\n",
    "age_pred_lin = linreg.predict(X_missing_scaled)\n",
    "\n",
    "# Dataset B: fill AGE with linear regression prediction\n",
    "df_B = df_missing.copy()\n",
    "df_B.loc[missing_mask, target_col] = age_pred_lin\n",
    "df_B = df_B.dropna()\n",
    "print(df_B.shape)\n",
    "print(\"Dataset B saved. Missing counts (should be 0):\")\n",
    "print(df_B.isna().sum())"
   ]
  },
  {
   "cell_type": "markdown",
   "id": "7b1fddc0-a6f6-4f00-ba23-5962c1d286e8",
   "metadata": {
    "jp-MarkdownHeadingCollapsed": true
   },
   "source": [
    "### Dataset C — KNN Regression Imputation (Non-Linear)\n",
    "\n",
    "Here, we use a **K-Nearest Neighbors (KNN) Regression model** to impute missing values in the `AGE` column.  \n",
    "Unlike linear regression, KNN does not assume any fixed functional relationship — it predicts missing values based on the average of nearby data points in feature space.  \n",
    "This allows the method to capture **non-linear relationships** and local variations in the data."
   ]
  },
  {
   "cell_type": "code",
   "execution_count": 9,
   "id": "f7887491-b602-476e-9c8e-59c5359a56d2",
   "metadata": {},
   "outputs": [
    {
     "name": "stdout",
     "output_type": "stream",
     "text": [
      "(24297, 25)\n",
      "Dataset C saved. Missing counts (should be 0):\n",
      "ID                            0\n",
      "LIMIT_BAL                     0\n",
      "SEX                           0\n",
      "EDUCATION                     0\n",
      "MARRIAGE                      0\n",
      "AGE                           0\n",
      "PAY_0                         0\n",
      "PAY_2                         0\n",
      "PAY_3                         0\n",
      "PAY_4                         0\n",
      "PAY_5                         0\n",
      "PAY_6                         0\n",
      "BILL_AMT1                     0\n",
      "BILL_AMT2                     0\n",
      "BILL_AMT3                     0\n",
      "BILL_AMT4                     0\n",
      "BILL_AMT5                     0\n",
      "BILL_AMT6                     0\n",
      "PAY_AMT1                      0\n",
      "PAY_AMT2                      0\n",
      "PAY_AMT3                      0\n",
      "PAY_AMT4                      0\n",
      "PAY_AMT5                      0\n",
      "PAY_AMT6                      0\n",
      "default.payment.next.month    0\n",
      "dtype: int64\n"
     ]
    }
   ],
   "source": [
    "# Dataset C — KNN Regression imputation for AGE\n",
    "knn = KNeighborsRegressor(n_neighbors=5)\n",
    "knn.fit(X_train_scaled, y_train)\n",
    "age_pred_knn = knn.predict(X_missing_scaled)\n",
    "\n",
    "df_C = df_missing.copy()\n",
    "df_C.loc[missing_mask, target_col] = age_pred_knn\n",
    "\n",
    "df_C = df_C.dropna()\n",
    "print(df_C.shape)\n",
    "\n",
    "print(\"Dataset C saved. Missing counts (should be 0):\")\n",
    "print(df_C.isna().sum())"
   ]
  },
  {
   "cell_type": "markdown",
   "id": "2e39f7d0-a22b-4347-a58e-31af8b78c00a",
   "metadata": {
    "jp-MarkdownHeadingCollapsed": true
   },
   "source": [
    "## Part B: Model Training and Performance Assessment "
   ]
  },
  {
   "cell_type": "markdown",
   "id": "baaf93b5-2971-4921-b672-efca9b41206a",
   "metadata": {
    "jp-MarkdownHeadingCollapsed": true
   },
   "source": [
    "### Dataset D — Listwise Deletion\n",
    "\n",
    "In this approach, we remove all rows that contain any missing values instead of filling them.  \n",
    "This ensures that only complete data is used for model training, avoiding any imputation bias.  "
   ]
  },
  {
   "cell_type": "code",
   "execution_count": 10,
   "id": "ef525203-69e4-4249-ae8c-b8f941e19f36",
   "metadata": {},
   "outputs": [
    {
     "name": "stdout",
     "output_type": "stream",
     "text": [
      "Dataset D shape after listwise deletion: (21876, 25)\n"
     ]
    }
   ],
   "source": [
    "df_D = df_missing.dropna().copy()\n",
    "print('Dataset D shape after listwise deletion:', df_D.shape)"
   ]
  },
  {
   "cell_type": "markdown",
   "id": "ce5a49c7-1815-48d9-84a0-0ec75f9a26f5",
   "metadata": {
    "jp-MarkdownHeadingCollapsed": true
   },
   "source": [
    "### Helper Functions for Modeling\n",
    "\n",
    "Before training, we define a few helper functions to simplify the workflow:  \n",
    "- **prepare_xy()** — separates features and target.  \n",
    "- **standardize_split()** — splits data into training and testing sets and applies feature scaling.  \n",
    "- **eval_logistic()** — trains a Logistic Regression model and returns key evaluation metrics (Accuracy, Precision, Recall, and F1-score).  \n",
    "\n",
    "These functions help keep the code clean and reusable across all four datasets (A, B, C, and D).\n"
   ]
  },
  {
   "cell_type": "code",
   "execution_count": 11,
   "id": "2d8da6e4-2b29-4b24-9809-b7749a67ba66",
   "metadata": {},
   "outputs": [],
   "source": [
    "from typing import Tuple, Dict\n",
    "\n",
    "def prepare_xy(df: pd.DataFrame, target_name: str) -> Tuple[pd.DataFrame, pd.Series]:\n",
    "  X = df.drop(columns=[target_name])\n",
    "  y = df[target_name]\n",
    "  # Drop any non-numeric columns (ID) if present\n",
    "  X = X.select_dtypes(include=[np.number]).copy()\n",
    "  return X, y\n",
    "\n",
    "def standardize_split(X: pd.DataFrame, y: pd.Series, test_size=0.2, random_state=RSEED):\n",
    "  X_train, X_test, y_train, y_test = train_test_split(X, y, test_size=test_size, random_state=random_state, stratify=y)\n",
    "  scaler = StandardScaler()\n",
    "  X_train_s = scaler.fit_transform(X_train)\n",
    "  X_test_s = scaler.transform(X_test)\n",
    "  return X_train_s, X_test_s, y_train, y_test, scaler\n",
    "\n",
    "def eval_logistic(X_train_s, X_test_s, y_train, y_test) -> Dict:\n",
    "  clf = LogisticRegression(max_iter=1000, random_state=RSEED)\n",
    "  clf.fit(X_train_s, y_train)\n",
    "  y_pred = clf.predict(X_test_s)\n",
    "  report = classification_report(y_test, y_pred, output_dict=True)\n",
    "  metrics = {\n",
    "              'accuracy': accuracy_score(y_test, y_pred),\n",
    "              'precision': precision_score(y_test, y_pred, zero_division=0),\n",
    "              'recall': recall_score(y_test, y_pred, zero_division=0),\n",
    "              'f1': f1_score(y_test, y_pred, zero_division=0),\n",
    "              'report_dict': report\n",
    "              }\n",
    "  return metrics"
   ]
  },
  {
   "cell_type": "markdown",
   "id": "4a765725-80d7-419b-be91-c90a7c7d2928",
   "metadata": {
    "jp-MarkdownHeadingCollapsed": true
   },
   "source": [
    "### Model Training and Evaluation on All Datasets\n",
    "\n",
    "We now train a **Logistic Regression** classifier on each dataset:\n",
    "- **Dataset A:** Median imputation  \n",
    "- **Dataset B:** Linear regression imputation  \n",
    "- **Dataset C:** KNN regression imputation  \n",
    "- **Dataset D:** Listwise deletion  \n",
    "\n",
    "Each dataset is split into training and testing sets using the same random seed for fair comparison.  \n",
    "After training, we record Accuracy, Precision, Recall, and F1-score for all models."
   ]
  },
  {
   "cell_type": "code",
   "execution_count": 12,
   "id": "c92de7a6-8cd6-4373-b07c-d1d499a59eba",
   "metadata": {},
   "outputs": [
    {
     "name": "stdout",
     "output_type": "stream",
     "text": [
      "\n",
      "Processing Dataset A — shape: (30000, 25)\n",
      "Dataset A — Accuracy: 0.8078, Precision: 0.6916, Recall: 0.2366, F1: 0.3526\n",
      "\n",
      "Processing Dataset B — shape: (24297, 25)\n",
      "Dataset B — Accuracy: 0.8204, Precision: 0.7831, Recall: 0.2588, F1: 0.3891\n",
      "\n",
      "Processing Dataset C — shape: (24297, 25)\n",
      "Dataset C — Accuracy: 0.8210, Precision: 0.7849, Recall: 0.2616, F1: 0.3925\n",
      "\n",
      "Processing Dataset D — shape: (21876, 25)\n",
      "Dataset D — Accuracy: 0.8165, Precision: 0.7554, Recall: 0.2521, F1: 0.3780\n"
     ]
    }
   ],
   "source": [
    "target_name = 'default.payment.next.month'\n",
    "\n",
    "results = {}\n",
    "for label, df_use in [('A', df_A), ('B', df_B), ('C', df_C), ('D', df_D)]:\n",
    "  print(f\"\\nProcessing Dataset {label} — shape: {df_use.shape}\")\n",
    "  X, y = prepare_xy(df_use, target_name)\n",
    "  X_train_s, X_test_s, y_train, y_test, scaler_local = standardize_split(X, y)\n",
    "  metrics = eval_logistic(X_train_s, X_test_s, y_train, y_test)\n",
    "  results[label] = {\n",
    "                    'metrics': metrics,\n",
    "                    'X_train_shape': X_train_s.shape,\n",
    "                    'X_test_shape': X_test_s.shape\n",
    "                    }\n",
    "  print(f\"Dataset {label} — Accuracy: {metrics['accuracy']:.4f}, Precision: {metrics['precision']:.4f}, Recall: {metrics['recall']:.4f}, F1: {metrics['f1']:.4f}\")"
   ]
  },
  {
   "cell_type": "markdown",
   "id": "cfdc77d6-ffa4-4780-a5c6-9a5cb6648ff9",
   "metadata": {
    "jp-MarkdownHeadingCollapsed": true
   },
   "source": [
    "## Part C: Comparative Analysis "
   ]
  },
  {
   "cell_type": "markdown",
   "id": "452e78b3-9bd2-4054-afe6-9ceb61d0810e",
   "metadata": {
    "jp-MarkdownHeadingCollapsed": true
   },
   "source": [
    "### Results Comparison\n",
    "\n",
    "The table and bar chart below compare the performance of the four models based on key classification metrics — **Accuracy**, **Precision**, **Recall**, and **F1-score**.  \n",
    "\n",
    "#### Models Compared\n",
    "- **Model A:** Median Imputation  \n",
    "- **Model B:** Linear Regression Imputation  \n",
    "- **Model C:** KNN (Non-Linear) Regression Imputation  \n",
    "- **Model D:** Listwise Deletion  \n",
    "\n",
    "The results help visualize how different imputation strategies impact the performance of the Logistic Regression classifier.\n"
   ]
  },
  {
   "cell_type": "code",
   "execution_count": 13,
   "id": "1a82a805-7b21-43cb-a969-aa81ba75c8e3",
   "metadata": {},
   "outputs": [
    {
     "name": "stdout",
     "output_type": "stream",
     "text": [
      "         Accuracy  Precision    Recall        F1\n",
      "Dataset                                         \n",
      "A        0.807833   0.691630  0.236624  0.352611\n",
      "B        0.820370   0.783099  0.258845  0.389083\n",
      "C        0.820988   0.784916  0.261639  0.392458\n",
      "D        0.816499   0.755418  0.252066  0.378002\n"
     ]
    }
   ],
   "source": [
    "summary_rows = []\n",
    "for k, v in results.items():\n",
    "  m = v['metrics']\n",
    "  summary_rows.append({'Dataset': k, 'Accuracy': m['accuracy'], 'Precision': m['precision'], 'Recall': m['recall'], 'F1': m['f1']})\n",
    "\n",
    "\n",
    "summary_df = pd.DataFrame(summary_rows).set_index('Dataset')\n",
    "print(summary_df)"
   ]
  },
  {
   "cell_type": "code",
   "execution_count": 14,
   "id": "185e2add-28b3-48dd-9cf1-5b8b963cd6fa",
   "metadata": {},
   "outputs": [
    {
     "data": {
      "image/png": "[encoded data removed]",
      "text/plain": [
       "<Figure size 1000x600 with 1 Axes>"
      ]
     },
     "metadata": {},
     "output_type": "display_data"
    }
   ],
   "source": [
    "plt.figure(figsize=(10, 6))\n",
    "bar_width = 0.2\n",
    "r1 = np.arange(len(summary_df.index))\n",
    "r2 = [x + bar_width for x in r1]\n",
    "r3 = [x + bar_width for x in r2]\n",
    "r4 = [x + bar_width for x in r3]\n",
    "\n",
    "plt.bar(r1, summary_df['F1'], color='skyblue', width=bar_width, edgecolor='grey', label='F1')\n",
    "plt.bar(r2, summary_df['Accuracy'], color='lightcoral', width=bar_width, edgecolor='grey', label='Accuracy')\n",
    "plt.bar(r3, summary_df['Precision'], color='lightgreen', width=bar_width, edgecolor='grey', label='Precision')\n",
    "plt.bar(r4, summary_df['Recall'], color='gold', width=bar_width, edgecolor='grey', label='Recall')\n",
    "\n",
    "plt.title('Evaluation Metrics by Dataset (A:Median, B:Linear, C:KNN, D:Listwise)')\n",
    "plt.xlabel('Dataset')\n",
    "plt.ylabel('Score')\n",
    "plt.ylim(0, 1)\n",
    "plt.xticks([r + 1.5 * bar_width for r in range(len(summary_df.index))], summary_df.index)\n",
    "plt.legend()\n",
    "plt.grid(axis='y', linestyle='--', alpha=0.6)\n",
    "plt.tight_layout()\n",
    "plt.show()"
   ]
  },
  {
   "cell_type": "markdown",
   "id": "af1f8239-ecef-4bc4-8b52-5deb50f32118",
   "metadata": {},
   "source": [
    "### Efficacy Discussion\n",
    "\n",
    "### 1) Trade-off between Listwise Deletion (Model D) and Imputation (Models A, B, C)\n",
    "\n",
    "From the results:\n",
    "\n",
    "| Dataset | Accuracy | Precision | Recall | F1 |\n",
    "|----------|-----------|------------|--------|----|\n",
    "| A (Median) | 0.8078 | 0.6916 | 0.2366 | 0.3526 |\n",
    "| B (Linear) | 0.8204 | 0.7831 | 0.2588 | 0.3891 |\n",
    "| C (KNN) | 0.8210 | 0.7849 | 0.2616 | 0.3925 |\n",
    "| D (Listwise) | 0.8165 | 0.7554 | 0.2521 | 0.3780 |\n",
    "\n",
    "**Discussion:**  \n",
    "Listwise deletion (Model D) simply removes all rows with missing values.  \n",
    "While this avoids dealing with missing data, it also **reduces the dataset size**, which means the model has fewer examples to learn from. This can make the model less stable and less general.  \n",
    "\n",
    "On the other hand, the imputation methods (A, B, C) **keep all the data** by filling in the missing values. Even if these filled values are estimates, they help the model see more data and learn better patterns. That’s why Models B and C, which used regression-based imputations, have **better F1-scores** than Model D.  \n",
    "\n",
    "So, even though listwise deletion avoids the risk of “wrong” imputations, it loses valuable information.  \n",
    "In short — **deletion reduces data and hurts learning**, while **imputation keeps data and improves performance**.\n",
    "\n",
    "---\n",
    "\n",
    "### 2) Which regression method performed better and why?\n",
    "\n",
    "Between the two regression methods:\n",
    "- **Linear regression (B)** F1 = 0.3891  \n",
    "- **KNN regression (C)** F1 = 0.3925  \n",
    "\n",
    "KNN imputation performed **slightly better** than linear regression.\n",
    "\n",
    "**Reason:**  \n",
    "Linear regression assumes a straight-line relationship between `AGE` and other predictors.  \n",
    "KNN regression does not assume any fixed form — it looks for similar rows (neighbors) and averages their values. This helps when the relation between variables is **non-linear or changes across groups**.  \n",
    "\n",
    "So, the small improvement in F1 suggests that **the relationship between `AGE` and other features is slightly non-linear**, and KNN was able to capture that better.\n",
    "\n",
    "---\n",
    "\n",
    "### 3) Recommendation and Conclusion\n",
    "\n",
    "Looking at all models:\n",
    "- **Median imputation (A)** was the simplest but had the lowest F1-score.\n",
    "- **Linear regression (B)** improved the model by using feature relationships.\n",
    "- **KNN regression (C)** performed best overall.\n",
    "- **Listwise deletion (D)** did better than median imputation but worse than regression-based imputations.\n",
    "\n",
    "**Recommendation:**  \n",
    "For this dataset, **KNN imputation (non-linear)** is the best choice.  \n",
    "It keeps all the data, captures complex patterns, and gives the best classification performance.  \n",
    "Linear regression is a close second and works well when the relationships are mostly linear.  \n",
    "Median imputation is okay for a quick baseline, but not ideal for real analysis.  \n",
    "Listwise deletion should be avoided unless only a very small portion of data is missing.\n",
    "\n",
    "---\n",
    "\n",
    "### Summary \n",
    "Imputation methods that learn from other features (like Linear or KNN) help the model perform better than just deleting rows or using simple averages.  \n",
    "Here, **KNN imputation gave the best and most balanced results**, so it is the preferred way to handle missing values in this credit-risk dataset.\n"
   ]
  },
  {
   "cell_type": "markdown",
   "id": "62565c3f-dd83-4639-9ecd-fd7164353595",
   "metadata": {},
   "source": []
  }
 ],
 "metadata": {
  "kernelspec": {
   "display_name": "Python [conda env:base] *",
   "language": "python",
   "name": "conda-base-py"
  },
  "language_info": {
   "codemirror_mode": {
    "name": "ipython",
    "version": 3
   },
   "file_extension": ".py",
   "mimetype": "text/x-python",
   "name": "python",
   "nbconvert_exporter": "python",
   "pygments_lexer": "ipython3",
   "version": "3.13.5"
  }
 },
 "nbformat": 4,
 "nbformat_minor": 5
}
